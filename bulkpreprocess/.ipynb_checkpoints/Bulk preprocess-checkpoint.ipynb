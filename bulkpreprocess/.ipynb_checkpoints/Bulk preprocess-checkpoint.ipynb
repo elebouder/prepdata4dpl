{
 "cells": [
  {
   "cell_type": "markdown",
   "metadata": {
    "collapsed": true
   },
   "source": [
    "# Bulk Preprocess and Site Extraction Modules\n",
    "\n",
    "## General Overview\n",
    "\n",
    "Contains:\n",
    "- Main.py\n",
    "- setup_grassenv.py\n",
    "- preprocess_main.py\n",
    "- preprocess_in_grass.py\n",
    "- postgresql_access.py\n",
    "- gen_randSites.py\n",
    "- test.py\n",
    "\n",
    "#### Main.py\n",
    "\n",
    "Provides the main module for the site extraction process. Given either a set of months or an interval of time from start_month to end_month, will iterate through the raw level-1 Landsat file db and for each applicable scene will make a call to #preprocess_main.py and run prep it for site extraction.\n"
   ]
  },
  {
   "cell_type": "code",
   "execution_count": null,
   "metadata": {
    "collapsed": true
   },
   "outputs": [],
   "source": [
    "    ### EITHER\n",
    "    ### 1) use the temporal type 'months' (specifying a distinct list of months\n",
    "    #######and years to pick run through), or\n",
    "    ### 2) pick a beginning and end date and have everthing on file within that interval\n",
    "    ####### as data ('period')\n",
    "    ### the choice is made by initializing temporal type as 'months' or 'period'\n",
    "    #TODO: build support in the sql db writing for handling multiple months\n"
   ]
  },
  {
   "cell_type": "raw",
   "metadata": {},
   "source": [
    "Main() will iterate throught the months and for each individual scene, make calls to other modules to preprocess, extract sites, and store required data in both file and PostgreSQL databases as needed.  \n",
    "\n",
    "####################### Future modifications for unsupervised classification and extraction for #######################testing\n",
    "\n",
    "VARIABLES TO EDIT:\n",
    "- unpacked_products_path; location of all level-1 raw data downloaded and unpacked from EarthExplorer\n",
    "- outputdataset; file location of all the final extracted site/suspected site images\n",
    "- intermediary_scene_dataset; location of processed full 3-band scenes ready to be extracted from\n",
    "- months/start_month/end_month/temporal_type: all variables involving which months/periods get processed...edit as necessary\n",
    "- bands[0:3]; these elems determine which bands get used to create rgb tiff"
   ]
  },
  {
   "cell_type": "markdown",
   "metadata": {},
   "source": [
    "#### preprocess_main.py"
   ]
  },
  {
   "cell_type": "raw",
   "metadata": {},
   "source": [
    "Handles creation of a temporary grass environment and location through setup_grassenv.py and throws call to preprocess_in_grass.py to externally process the raw Level-1 raster data into usable tiff files.\n",
    "\n",
    "VARIABLES TO EDIT:\n",
    "- None"
   ]
  },
  {
   "cell_type": "markdown",
   "metadata": {},
   "source": [
    "#### setup_grassenv.py"
   ]
  },
  {
   "cell_type": "raw",
   "metadata": {},
   "source": [
    "Handles creation of a new temporary grass environment with external access via library of python bindings grass.script.  Methods 'initsetup' and 'reproject' create a new environment and new location respectively.  The temporary env file 'rcfile' is passed back to preprocess_main.py, where it gets removed after processing of the scene is complete\n",
    "\n",
    "VARIABLES TO EDIT:\n",
    "- grass7bin; grass bat file location\n",
    "- gisdb, cmd; 'locations' location in filesystem\n",
    "- batpath; grass version (do not change unless using different GRASS version)"
   ]
  },
  {
   "cell_type": "markdown",
   "metadata": {},
   "source": [
    "#### preprocess_in_grass.py"
   ]
  },
  {
   "cell_type": "raw",
   "metadata": {},
   "source": [
    "Uses unix pipes defined in read2_command to pass grass commands from a remote environment.  Takes a scene in Level-1 form, create links to all bands + scene metadata file, and converts bands to reflectance, pansharpens, runs color correction, creates 3-band group (depending on the band nums specified in Main.py) and exports to filedb defined by Main.intermediary_scene_dataset.\n",
    "\n",
    "VARIABLES TO EDIT:\n",
    "- None"
   ]
  },
  {
   "cell_type": "markdown",
   "metadata": {},
   "source": [
    "#### clipraster_main.py"
   ]
  },
  {
   "cell_type": "raw",
   "metadata": {},
   "source": [
    "Extracts raster clips from a scene.  Extract() is passed the scene from Main.py, db file trainingsites_csv is read to compile a tuple list of permitted site locations in decimal coordinates, and every position within the scene region is used to extract a clip.  General program flow runs as follows:\n",
    "- extract() is called and handed the scene name and location in file system\n",
    "-> import_raster_bands() uses GDAL to open raster and grab the bands (currently 3)\n",
    "-> import_raster_bands checks input projection system and epsg code\n",
    "-> a csv file with site locations of known pads is scanned to grab their decimal unprojected coordinates, stores as tuple data in sitecoords_nonextent\n",
    "-> remove_outofbounds_points() converts decimal coordinates to the current projected coords of the scene, and removes any that are over null data or are outside the current geographical extent, storing the successful coords in sitecoord_extent\n",
    "-> a multipoint geometry object is created over current region using the projected coordinates of known pads\n",
    "-> make_site_array() iterates over points in the multipoint geometry, and around each position extracts a 3x50x50 numpy array of values from the triband input raster\n",
    "-> array2raster() grabs GDAL 'TIFF' drivers and converts/saves the arrays to Main.outputdataset.\n",
    "-> extract() returns a list of all the full file names of each clip extracted\n",
    "\n",
    "VARIABLES TO EDIT:\n",
    "- pxmin, pxmax, pymin, pymax (lines 152-155); determines 2D size of site clip (not depth)\n",
    "- outRaster, line 266; bit depth in which to write the .tif of the site clip.  Must be the same bit depth as exported by GRASS in proprocess_in_grass.py"
   ]
  },
  {
   "cell_type": "markdown",
   "metadata": {},
   "source": [
    "#### gen_randSites.py"
   ]
  },
  {
   "cell_type": "raw",
   "metadata": {},
   "source": [
    "Designed to be run at top level, this runs through the fullsize processed scenes for a particular month and year.  200 random coordinates are generated from the current projection/extent and used instead of coordinates from trainingsites_csv.  Similar flow to clipraster_main.py, and calls many methods from it.  Modified versions of methods found in clipraster_main.py are located locally in gen_randSites.py.  Modified methods are:\n",
    "- extract(); import/projection of known sites from BC Oil/Gas Commission removed\n",
    "- extract(); now involves call to clipraster_main.find_raster_extent() to get the extent of the scene, needed for creation of random coordinates to extract from\n",
    "- remove_outofbounds_points(); does not involve projection.\n",
    "- array2raster(); field newRastername is different; prefixes output names with 'F'\n",
    "- randomize(); this new function generates projected coordinates from current scene from which to grab sites\n",
    "\n",
    "VARIABLES TO EDIT:\n",
    "- inputct (line 14); location of fullsize processed scenes from which to grab clips\n",
    "- parentOutputDirectory (line 15); file location in which to save extracted random clips\n",
    "- month, year (lines 16, 17); month/year from which to take input scenes\n",
    "- for x in range(###), line (99); ### is the number of random coordinates to query\n",
    "- outRaster (line 126); bit depth in which to write output tif.  Must be the same bit depth as exported by GRASS in proprocess_in_grass.py"
   ]
  },
  {
   "cell_type": "markdown",
   "metadata": {},
   "source": [
    "## Setup and Dependencies\n",
    "#### Grass Environment"
   ]
  },
  {
   "cell_type": "raw",
   "metadata": {},
   "source": [
    "These modules are dependent on Grass Gis Standalone Version 7.2.0 being fully installed on the platform. This can be downloaded as from the official GRASS GIS site <https://trac.osgeo.org/grass/wiki/DownloadSource> or from the svn repository at <https://trac.osgeo.org/grass/wiki/DownloadSource>.\n",
    "\n",
    "After installing, a gisdbase will need to be manually added onto the file system, usually as C:usr/username/grassdata.  Within the grassdata directory, a location will need to be created for every landsat scene, using a region/projection read from a georeferenced data file (one of the landsat bands in a scene will do).  The user should not need to worry about this as location creation will be automatically handled through the setup_grassenv.py module.  However, it is highly recommended that a default location should be created through the Location Wizard.\n",
    "\n",
    "Here are the steps for taking care of Grass:\n",
    "- download and install\n",
    "- create gisdbase folder titled 'grassdata'\n",
    "- create default location titled 'genLocation'\n",
    "- open Grass Gis GUI under as administrator, and go to Layer Manager -> Settings -> Addons Extensions -> Install extenstions from addons [g.extension]\n",
    "- with the g.extension addons window open, install the following extensions with the 'install sys-wide' option checked:\n",
    "---> i.fusion.brovey\n",
    "- check from the in-grass python scripting widget that the package grass.script can be imported\n",
    "- make sure that the following paths have been set as environment variables (preferably sys vars):\n",
    "    -> GRASS_PATH\n",
    "    -> GRASS_ADDON_PATH\n",
    "    -> GRASS_ADDON_BASE\n",
    "    - NOTE: these may not appear in the permanent variables, as they are set up by the grass scripts.  If you run grass either manually or from setup_grassenv.py, os.environ should spit out a list of TMP variables with these included.\n",
    "- grass72.bat needs to be in PATH\n",
    "    \n",
    "################################### See section on modules involving grass for more info\n"
   ]
  },
  {
   "cell_type": "markdown",
   "metadata": {},
   "source": [
    "#### Gdal and TIFF handling "
   ]
  },
  {
   "cell_type": "raw",
   "metadata": {},
   "source": [
    "There are several dependencies needed for custom handling of tiff files.\n",
    "- GDAL\n",
    "- pyproj\n",
    "- PIL\n",
    "- libtiff (thru Gnu for Windows)\n",
    "\n",
    "GDAL:\n",
    "The first are the GDAL/OSGeo libraries.  These are best obtained from the OSgeo4W installer at <https://trac.osgeo.org/osgeo4w/wiki>, which will install the python bindings as well.  The packages should be accessible from PATH through Anaconda2/Lib/site-packages.  \n",
    "\n",
    "Pyproj:\n",
    "The pyproj library provides an interface to the PROJ.4 library, and is needed for converting raster maps between projections.  It is available through pip install pyproj or at <https://github.com/jswhit/pyproj>\n",
    "\n",
    "GNU for Windows:\n",
    "Libtiff and Tiff allow for opening, saving, and conversion to numpy array of tiff files not supported by PIL.  This includes bit depths of Int32, and Int16.\n",
    "- TIFF binaries at <http://gnuwin32.sourceforge.net/packages/tiff-win32.htm>\n",
    "   - after installing with .exe, add C:\\\\Program Files\\\\GnuWin32\\\\bin to PATH variables\n",
    "- pylibtiff package with pip install libtiff\n",
    "    - has TIFF as a dependency\n",
    "    \n"
   ]
  }
 ],
 "metadata": {
  "kernelspec": {
   "display_name": "Python 2",
   "language": "python",
   "name": "python2"
  },
  "language_info": {
   "codemirror_mode": {
    "name": "ipython",
    "version": 2
   },
   "file_extension": ".py",
   "mimetype": "text/x-python",
   "name": "python",
   "nbconvert_exporter": "python",
   "pygments_lexer": "ipython2",
   "version": "2.7.12"
  }
 },
 "nbformat": 4,
 "nbformat_minor": 1
}
